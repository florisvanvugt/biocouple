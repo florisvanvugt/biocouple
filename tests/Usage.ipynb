{
 "cells": [
  {
   "cell_type": "code",
   "execution_count": null,
   "id": "21d0cfcb-5f80-4368-9ed0-ed3c6940d360",
   "metadata": {},
   "outputs": [],
   "source": [
    "import biocouple\n",
    "\n",
    "import numpy as np"
   ]
  },
  {
   "cell_type": "markdown",
   "id": "5fa5b038-8b1b-47be-8c48-3656cd474d3e",
   "metadata": {},
   "source": [
    "# Getting valid RR intervals"
   ]
  },
  {
   "cell_type": "markdown",
   "id": "41091a30-5e3f-4fe3-bee3-b18e816c8f29",
   "metadata": {},
   "source": [
    "One of the challenges is to deal with an ECG signal that often has artefactual portions, where the data simply isn't usable. "
   ]
  },
  {
   "cell_type": "code",
   "execution_count": null,
   "id": "49f8517a-5eb3-4bfc-8b52-515d855db888",
   "metadata": {},
   "outputs": [],
   "source": [
    "peaks = [1,2.1,3.15,4.25,5.1,6.1]"
   ]
  },
  {
   "cell_type": "code",
   "execution_count": null,
   "id": "35387c5a-f06e-44fa-898f-75500fbbd79e",
   "metadata": {},
   "outputs": [],
   "source": [
    "biocouple.get_valid_RR_intervals(peaks,[]) # gives you the time of each beat and the interval to the next beat"
   ]
  },
  {
   "cell_type": "code",
   "execution_count": null,
   "id": "f8e2634d-547f-449e-90a2-e71ea6826a6b",
   "metadata": {},
   "outputs": [],
   "source": [
    "artefacts = [ (np.nan,2.5,3.5) ]"
   ]
  },
  {
   "cell_type": "code",
   "execution_count": null,
   "id": "98fb4261-137e-461f-bd89-783ee728b265",
   "metadata": {},
   "outputs": [],
   "source": [
    "rr = biocouple.get_valid_RR_intervals(peaks,artefacts)"
   ]
  },
  {
   "cell_type": "markdown",
   "id": "3f7035c6-411c-4629-9df6-1e0f77f844c6",
   "metadata": {},
   "source": [
    "# Extracting HRV features"
   ]
  },
  {
   "cell_type": "code",
   "execution_count": null,
   "id": "3953d500-d917-4dc3-bd7d-47904be024ca",
   "metadata": {},
   "outputs": [],
   "source": [
    "intvl = [ iv for (_,iv) in rr ]\n",
    "import hrvanalysis\n",
    "hrvanalysis.get_time_domain_features(intvl)"
   ]
  },
  {
   "cell_type": "code",
   "execution_count": null,
   "id": "11f55bf7-443b-46f6-914a-17a457198d0e",
   "metadata": {},
   "outputs": [],
   "source": []
  }
 ],
 "metadata": {
  "kernelspec": {
   "display_name": "Python 3 (ipykernel)",
   "language": "python",
   "name": "python3"
  },
  "language_info": {
   "codemirror_mode": {
    "name": "ipython",
    "version": 3
   },
   "file_extension": ".py",
   "mimetype": "text/x-python",
   "name": "python",
   "nbconvert_exporter": "python",
   "pygments_lexer": "ipython3",
   "version": "3.10.12"
  }
 },
 "nbformat": 4,
 "nbformat_minor": 5
}
